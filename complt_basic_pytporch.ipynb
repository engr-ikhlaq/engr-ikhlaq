{
  "nbformat": 4,
  "nbformat_minor": 0,
  "metadata": {
    "colab": {
      "provenance": []
    },
    "kernelspec": {
      "name": "python3",
      "display_name": "Python 3"
    },
    "language_info": {
      "name": "python"
    }
  },
  "cells": [
    {
      "cell_type": "code",
      "execution_count": null,
      "metadata": {
        "id": "96mUQ5l5Vqgl"
      },
      "outputs": [],
      "source": [
        "import torch\n",
        "import torch.nn as nn\n",
        "import torch.nn.functional as F"
      ]
    },
    {
      "cell_type": "code",
      "source": [
        "# Creat a model class tha inherits nn.module :\n",
        "class Model(nn.Module):\n",
        "  # input layer (4 feature of flower)-->\n",
        "  # Hidden layer (number of neurons)-->\n",
        "  # Hidden layer 2(number of neurons)-->\n",
        "  # output layer(3 classes of iris flower).\n",
        "  def __init__(self,inp_features = 4, h1 = 8, h2 = 9, out_features = 3):\n",
        "    super().__init__()   # instantiate our nn.module\n",
        "\n",
        "    # in line below fc1 is fully connection between neurons :\n",
        "\n",
        "    # in the lines below the data moving first form input features to hidden line one\n",
        "    self.fc1 = nn.Linear(inp_features, h1)\n",
        "\n",
        "    #  in the line below the data is moving form hidden line 1 to hidden line 2:\n",
        "    self.fc2 = nn.Linear(h1, h2)\n",
        "\n",
        "    #  in the line below the data is moving form hidden line to out put:\n",
        "    self.out = nn.Linear(h2, out_features)\n",
        "\n",
        "    # now we need function that moving everything forward so :\n",
        "    def forward(self, x):\n",
        "      x = F.relu(self.fc1(x))\n",
        "      x = F.relu(self.fc1(x))\n",
        "      x = F.relu(self.out(x))\n",
        "      return x\n"
      ],
      "metadata": {
        "id": "qBpRxDWQVxLS"
      },
      "execution_count": null,
      "outputs": []
    },
    {
      "cell_type": "code",
      "source": [
        "# here before we turn the function on we need to create mannual_seed:\n",
        "torch.manual_seed(41)\n",
        "model = Model()"
      ],
      "metadata": {
        "id": "QKnTL7N4aQ6I"
      },
      "execution_count": null,
      "outputs": []
    },
    {
      "cell_type": "code",
      "source": [
        "# now wr going to import matplotlib because we are going ti make a little chart later on it the end:\n",
        "import matplotlib"
      ],
      "metadata": {
        "id": "MKXJoQMWbCED"
      },
      "execution_count": null,
      "outputs": []
    },
    {
      "cell_type": "code",
      "source": [
        "import torch\n",
        "\n",
        "print(\"PyTorch version:\", torch.__version__)\n"
      ],
      "metadata": {
        "id": "tmUALi-qcVXg",
        "colab": {
          "base_uri": "https://localhost:8080/"
        },
        "outputId": "befe8ef8-10ff-4b73-de05-f822f590db1b"
      },
      "execution_count": null,
      "outputs": [
        {
          "output_type": "stream",
          "name": "stdout",
          "text": [
            "PyTorch version: 2.2.1+cu121\n"
          ]
        }
      ]
    },
    {
      "cell_type": "code",
      "source": [
        "tensor1 = torch.tensor([1, 2, 3, 4, 5])"
      ],
      "metadata": {
        "id": "FT3cuRnioHdr"
      },
      "execution_count": null,
      "outputs": []
    },
    {
      "cell_type": "code",
      "source": [
        "scalar = torch.tensor(7)"
      ],
      "metadata": {
        "id": "9cGIJd6ep3tr"
      },
      "execution_count": null,
      "outputs": []
    },
    {
      "cell_type": "code",
      "source": [
        "scalar"
      ],
      "metadata": {
        "colab": {
          "base_uri": "https://localhost:8080/"
        },
        "id": "d4ehOsvoqLaR",
        "outputId": "21b3d99f-738a-4b33-dacb-9887b7640495"
      },
      "execution_count": null,
      "outputs": [
        {
          "output_type": "execute_result",
          "data": {
            "text/plain": [
              "tensor(7)"
            ]
          },
          "metadata": {},
          "execution_count": 13
        }
      ]
    },
    {
      "cell_type": "code",
      "source": [],
      "metadata": {
        "id": "6urOjuUuqqNI"
      },
      "execution_count": null,
      "outputs": []
    },
    {
      "cell_type": "markdown",
      "source": [
        "# **INTRODUCTON TO TENSOR:**"
      ],
      "metadata": {
        "id": "J3S2IsGBquPo"
      }
    },
    {
      "cell_type": "code",
      "source": [
        "scalar = torch.tensor(7)"
      ],
      "metadata": {
        "id": "Hajnypliq5lu"
      },
      "execution_count": null,
      "outputs": []
    },
    {
      "cell_type": "code",
      "source": [
        "scalar"
      ],
      "metadata": {
        "colab": {
          "base_uri": "https://localhost:8080/"
        },
        "id": "7frHAJB0q-qx",
        "outputId": "1cb48770-7a1e-48b4-fe95-42029cf01293"
      },
      "execution_count": null,
      "outputs": [
        {
          "output_type": "execute_result",
          "data": {
            "text/plain": [
              "tensor(7)"
            ]
          },
          "metadata": {},
          "execution_count": 15
        }
      ]
    },
    {
      "cell_type": "code",
      "source": [
        "scalar.ndim"
      ],
      "metadata": {
        "colab": {
          "base_uri": "https://localhost:8080/"
        },
        "id": "HuKjxmjtrAVa",
        "outputId": "cc70b64f-66a9-4038-d2ea-18997037ef12"
      },
      "execution_count": null,
      "outputs": [
        {
          "output_type": "execute_result",
          "data": {
            "text/plain": [
              "0"
            ]
          },
          "metadata": {},
          "execution_count": 19
        }
      ]
    },
    {
      "cell_type": "code",
      "source": [
        "vector = torch.tensor([1, 2, 3])"
      ],
      "metadata": {
        "id": "kpRSWY2brDeK"
      },
      "execution_count": null,
      "outputs": []
    },
    {
      "cell_type": "code",
      "source": [
        "vector.ndim"
      ],
      "metadata": {
        "colab": {
          "base_uri": "https://localhost:8080/"
        },
        "id": "-8ux7jOmrbML",
        "outputId": "e9cbb04d-571d-4af0-8454-bb5059ce1388"
      },
      "execution_count": null,
      "outputs": [
        {
          "output_type": "execute_result",
          "data": {
            "text/plain": [
              "1"
            ]
          },
          "metadata": {},
          "execution_count": 20
        }
      ]
    },
    {
      "cell_type": "code",
      "source": [],
      "metadata": {
        "id": "LUQW1c8Fre8L"
      },
      "execution_count": null,
      "outputs": []
    },
    {
      "cell_type": "markdown",
      "source": [
        "# **Initializing and basic operations**"
      ],
      "metadata": {
        "id": "XyxMb21gtJLm"
      }
    },
    {
      "cell_type": "code",
      "source": [
        "import numpy as np\n",
        "torch1 = torch.tensor([[1., -1.], [1., -1.]])\n",
        "torch1.ndim"
      ],
      "metadata": {
        "colab": {
          "base_uri": "https://localhost:8080/"
        },
        "id": "S2ynuh51tKc0",
        "outputId": "751dca46-bad3-4031-f319-465a6a63fe62"
      },
      "execution_count": null,
      "outputs": [
        {
          "output_type": "execute_result",
          "data": {
            "text/plain": [
              "2"
            ]
          },
          "metadata": {},
          "execution_count": 28
        }
      ]
    },
    {
      "cell_type": "code",
      "source": [
        "torch2 = torch.tensor(np.array([[1, 2, 3], [4, 5, 6]]))\n",
        "torch2.ndim\n"
      ],
      "metadata": {
        "colab": {
          "base_uri": "https://localhost:8080/"
        },
        "id": "RRW7dENBtfGv",
        "outputId": "9e7b3585-c84e-43ab-8ca7-c71db002cdac"
      },
      "execution_count": null,
      "outputs": [
        {
          "output_type": "execute_result",
          "data": {
            "text/plain": [
              "2"
            ]
          },
          "metadata": {},
          "execution_count": 29
        }
      ]
    },
    {
      "cell_type": "markdown",
      "source": [
        "# **tensor of specific data type**"
      ],
      "metadata": {
        "id": "fbmJ8qvyusBv"
      }
    },
    {
      "cell_type": "code",
      "source": [
        "torch3 = torch.zeros([2, 4,3], dtype=torch.int32)    # (column, rows, dimension)\n",
        "print(torch3)\n",
        "torch3.ndim"
      ],
      "metadata": {
        "colab": {
          "base_uri": "https://localhost:8080/"
        },
        "id": "PMkU1f-FttJf",
        "outputId": "ea58a77d-bb28-4bb0-8fb6-51f41258ce1f"
      },
      "execution_count": null,
      "outputs": [
        {
          "output_type": "stream",
          "name": "stdout",
          "text": [
            "tensor([[[0, 0, 0],\n",
            "         [0, 0, 0],\n",
            "         [0, 0, 0],\n",
            "         [0, 0, 0]],\n",
            "\n",
            "        [[0, 0, 0],\n",
            "         [0, 0, 0],\n",
            "         [0, 0, 0],\n",
            "         [0, 0, 0]]], dtype=torch.int32)\n"
          ]
        },
        {
          "output_type": "execute_result",
          "data": {
            "text/plain": [
              "3"
            ]
          },
          "metadata": {},
          "execution_count": 43
        }
      ]
    },
    {
      "cell_type": "code",
      "source": [
        "torch4 = torch.ones([3, 4, 3], dtype=torch.float64)\n",
        "print(torch4)\n",
        "torch4.ndim\n",
        "torch4.dtype"
      ],
      "metadata": {
        "colab": {
          "base_uri": "https://localhost:8080/"
        },
        "id": "RxKpuBL8u00_",
        "outputId": "51b636f8-fafa-4757-c938-2bdcc1d815d5"
      },
      "execution_count": null,
      "outputs": [
        {
          "output_type": "stream",
          "name": "stdout",
          "text": [
            "tensor([[[1., 1., 1.],\n",
            "         [1., 1., 1.],\n",
            "         [1., 1., 1.],\n",
            "         [1., 1., 1.]],\n",
            "\n",
            "        [[1., 1., 1.],\n",
            "         [1., 1., 1.],\n",
            "         [1., 1., 1.],\n",
            "         [1., 1., 1.]],\n",
            "\n",
            "        [[1., 1., 1.],\n",
            "         [1., 1., 1.],\n",
            "         [1., 1., 1.],\n",
            "         [1., 1., 1.]]], dtype=torch.float64)\n"
          ]
        },
        {
          "output_type": "execute_result",
          "data": {
            "text/plain": [
              "torch.float64"
            ]
          },
          "metadata": {},
          "execution_count": 49
        }
      ]
    },
    {
      "cell_type": "code",
      "source": [
        "import torch\n",
        "\n",
        "# Generate a tensor of random numbers with a specific shape\n",
        "random_tensor = torch.randn(2,3,3)\n",
        "\n",
        "# Print the random tensor\n",
        "print(\"Random Tensor:\")\n",
        "print(random_tensor)\n"
      ],
      "metadata": {
        "colab": {
          "base_uri": "https://localhost:8080/"
        },
        "id": "na85wQVNvBfB",
        "outputId": "ed00b62a-0618-444d-abdf-444558e6f2e4"
      },
      "execution_count": null,
      "outputs": [
        {
          "output_type": "stream",
          "name": "stdout",
          "text": [
            "Random Tensor:\n",
            "tensor([[[-2.7412, -1.1016, -0.7810],\n",
            "         [-1.1971, -2.3150, -1.1734],\n",
            "         [ 1.1527, -0.2896,  0.9425]],\n",
            "\n",
            "        [[-0.8061,  0.4900, -1.2069],\n",
            "         [ 0.0617, -0.1109, -0.7134],\n",
            "         [ 0.4185,  0.7577,  0.9829]]])\n"
          ]
        }
      ]
    },
    {
      "cell_type": "code",
      "source": [
        "import torch\n",
        "\n",
        "# Generate a tensor of random integers with a specific shape\n",
        "random_tensor = torch.randint(low=0, high=100, size=(1,))  # Generates a 3x3 tensor of random integers between 0 and 100\n",
        "\n",
        "# Print the random tensor\n",
        "print(\"Random Tensor:\")\n",
        "print(random_tensor)\n"
      ],
      "metadata": {
        "colab": {
          "base_uri": "https://localhost:8080/"
        },
        "id": "D5qPqJIvw4q4",
        "outputId": "9b42fa73-a4d1-419d-cd9a-58634a96132b"
      },
      "execution_count": null,
      "outputs": [
        {
          "output_type": "stream",
          "name": "stdout",
          "text": [
            "Random Tensor:\n",
            "tensor([20])\n"
          ]
        }
      ]
    },
    {
      "cell_type": "markdown",
      "source": [
        "# **Lucky Number Game! with random number**"
      ],
      "metadata": {
        "id": "FbE9zQEJ7yvV"
      }
    },
    {
      "cell_type": "code",
      "source": [
        "import torch\n",
        "\n",
        "def generate_random_number():\n",
        "    return torch.randint(low=1, high=10, size=(1,)).item()\n",
        "\n",
        "def play_game():\n",
        "    attempts = 0\n",
        "    max_attempts = 5\n",
        "    random_number = generate_random_number()\n",
        "\n",
        "    while True:\n",
        "        user_input = input(\"Enter your lucky number (between 1 and 10): \")\n",
        "\n",
        "        # Check if user input is a valid integer\n",
        "        try:\n",
        "            user_guess = int(user_input)\n",
        "        except ValueError:\n",
        "            print(\"Please enter a valid integer.\")\n",
        "            continue\n",
        "\n",
        "        attempts += 1\n",
        "\n",
        "        # Check if user's guess matches the random number\n",
        "        if user_guess == random_number:\n",
        "            print(\"Congratulations! Your lucky number matches the random number:\", random_number)\n",
        "            break\n",
        "        else:\n",
        "            difference = abs(user_guess - random_number)\n",
        "            print(f\"Sorry, try again. You are {difference} numbers away from the random number.\")\n",
        "\n",
        "        # If the user exceeds the maximum attempts, generate a new random number\n",
        "        if attempts >= max_attempts:\n",
        "            random_number = generate_random_number()\n",
        "            attempts = 0\n",
        "            print(\"New random number generated. Try again!\")\n",
        "\n",
        "if __name__ == \"__main__\":\n",
        "    print(\"Welcome to the Lucky Number Game!\")\n",
        "    print(\"You have 5 attempts to guess the lucky number.\")\n",
        "    play_game()\n"
      ],
      "metadata": {
        "colab": {
          "base_uri": "https://localhost:8080/"
        },
        "id": "ST7mlmWi7Bem",
        "outputId": "13091b3a-1ddd-4d40-b330-296c703aa059"
      },
      "execution_count": null,
      "outputs": [
        {
          "output_type": "stream",
          "name": "stdout",
          "text": [
            "Welcome to the Lucky Number Game!\n",
            "You have 5 attempts to guess the lucky number.\n",
            "Enter your lucky number (between 1 and 10): 6\n",
            "Sorry, try again. You are 1 numbers away from the random number.\n",
            "Enter your lucky number (between 1 and 10): 5\n",
            "Congratulations! Your lucky number matches the random number: 5\n"
          ]
        }
      ]
    },
    {
      "cell_type": "markdown",
      "source": [
        "# image size with random"
      ],
      "metadata": {
        "id": "2Kz73---8ZyD"
      }
    },
    {
      "cell_type": "code",
      "source": [
        "import torch\n",
        "import random\n",
        "# Create a random tensor of size (224, 224, 3)\n",
        "random_image_size_tensor = torch.rand(size=(224, 224, 3))\n",
        "random_image_size_tensor,random_image_size_tensor.shape, random_image_size_tensor.ndim\n"
      ],
      "metadata": {
        "id": "aQJuUzEQ0kKD",
        "colab": {
          "base_uri": "https://localhost:8080/"
        },
        "outputId": "2e849eca-8d6d-49fa-ce7a-0a49ba12a042"
      },
      "execution_count": null,
      "outputs": [
        {
          "output_type": "execute_result",
          "data": {
            "text/plain": [
              "(tensor([[[0.4514, 0.8786, 0.2152],\n",
              "          [0.2135, 0.5005, 0.3748],\n",
              "          [0.0591, 0.9862, 0.0089],\n",
              "          ...,\n",
              "          [0.3068, 0.3345, 0.0920],\n",
              "          [0.7135, 0.0399, 0.2473],\n",
              "          [0.2517, 0.2399, 0.4335]],\n",
              " \n",
              "         [[0.6665, 0.4833, 0.0018],\n",
              "          [0.8023, 0.9286, 0.6778],\n",
              "          [0.6418, 0.8708, 0.3403],\n",
              "          ...,\n",
              "          [0.0601, 0.1003, 0.8187],\n",
              "          [0.8929, 0.1135, 0.2328],\n",
              "          [0.6211, 0.4498, 0.9561]],\n",
              " \n",
              "         [[0.3639, 0.3070, 0.0122],\n",
              "          [0.4496, 0.6539, 0.9578],\n",
              "          [0.0993, 0.2848, 0.3014],\n",
              "          ...,\n",
              "          [0.3418, 0.4471, 0.4243],\n",
              "          [0.5551, 0.6007, 0.3293],\n",
              "          [0.7352, 0.0550, 0.6412]],\n",
              " \n",
              "         ...,\n",
              " \n",
              "         [[0.9329, 0.4338, 0.4317],\n",
              "          [0.8223, 0.6056, 0.1623],\n",
              "          [0.3452, 0.5361, 0.6289],\n",
              "          ...,\n",
              "          [0.3418, 0.1827, 0.2855],\n",
              "          [0.1457, 0.4114, 0.0366],\n",
              "          [0.0158, 0.4863, 0.6731]],\n",
              " \n",
              "         [[0.1003, 0.9758, 0.2055],\n",
              "          [0.8481, 0.2245, 0.9452],\n",
              "          [0.8253, 0.7880, 0.2435],\n",
              "          ...,\n",
              "          [0.3352, 0.9712, 0.9586],\n",
              "          [0.4631, 0.7490, 0.0107],\n",
              "          [0.3514, 0.8483, 0.2464]],\n",
              " \n",
              "         [[0.2607, 0.4719, 0.2190],\n",
              "          [0.0410, 0.7313, 0.4813],\n",
              "          [0.4123, 0.1191, 0.6454],\n",
              "          ...,\n",
              "          [0.8800, 0.1156, 0.2073],\n",
              "          [0.2308, 0.9192, 0.8726],\n",
              "          [0.1788, 0.4876, 0.2991]]]),\n",
              " torch.Size([224, 224, 3]),\n",
              " 3)"
            ]
          },
          "metadata": {},
          "execution_count": 9
        }
      ]
    },
    {
      "cell_type": "code",
      "source": [
        "# Create a tensor of all ones\n",
        "ones = torch.ones(size=(3, 4))\n",
        "ones, #ones.dtype"
      ],
      "metadata": {
        "colab": {
          "base_uri": "https://localhost:8080/"
        },
        "id": "NcdvRzGFWx2m",
        "outputId": "aeeab989-1907-48d4-8dee-16f1fa5066bb"
      },
      "execution_count": null,
      "outputs": [
        {
          "output_type": "execute_result",
          "data": {
            "text/plain": [
              "(tensor([[1., 1., 1., 1.],\n",
              "         [1., 1., 1., 1.],\n",
              "         [1., 1., 1., 1.]]),)"
            ]
          },
          "metadata": {},
          "execution_count": 11
        }
      ]
    },
    {
      "cell_type": "code",
      "source": [
        "# Use torch.arange(), torch.range() is deprecated\n",
        "zero_to_ten_deprecated = torch.range(0, 10) # Note: this may return an error in the future\n",
        "\n",
        "# Create a range of values 0 to 10\n",
        "zero_to_ten = torch.arange(start=0, end=11, step=3)\n",
        "zero_to_ten"
      ],
      "metadata": {
        "colab": {
          "base_uri": "https://localhost:8080/"
        },
        "id": "-pA5KW8jeg-J",
        "outputId": "1ae4bd4f-5cfb-4ec5-ec98-9c5ae95c98c8"
      },
      "execution_count": null,
      "outputs": [
        {
          "output_type": "stream",
          "name": "stderr",
          "text": [
            "<ipython-input-27-d9fa3db1730a>:2: UserWarning: torch.range is deprecated and will be removed in a future release because its behavior is inconsistent with Python's range builtin. Instead, use torch.arange, which produces values in [start, end).\n",
            "  zero_to_ten_deprecated = torch.range(0, 10) # Note: this may return an error in the future\n"
          ]
        },
        {
          "output_type": "execute_result",
          "data": {
            "text/plain": [
              "tensor([0, 3, 6, 9])"
            ]
          },
          "metadata": {},
          "execution_count": 27
        }
      ]
    },
    {
      "cell_type": "code",
      "source": [
        "# Can also create a tensor of zeros similar to another tensor\n",
        "ten_zeros = torch.ones_like(input=zero_to_ten) # will have same shape\n",
        "ten_zeros"
      ],
      "metadata": {
        "colab": {
          "base_uri": "https://localhost:8080/"
        },
        "id": "A3L-G6hqjO49",
        "outputId": "41fb672f-fce5-4b76-8159-d45a60439971"
      },
      "execution_count": null,
      "outputs": [
        {
          "output_type": "execute_result",
          "data": {
            "text/plain": [
              "tensor([1, 1, 1, 1])"
            ]
          },
          "metadata": {},
          "execution_count": 30
        }
      ]
    },
    {
      "cell_type": "code",
      "source": [
        "# Create a tensor\n",
        "some_tensor = torch.rand(3, 4)\n",
        "\n",
        "# Find out details about it\n",
        "print(some_tensor)\n",
        "print(f\"Shape of tensor: {some_tensor.shape}\")\n",
        "print(f\"Datatype of tensor: {some_tensor.dtype}\")\n",
        "print(f\"Device tensor is stored on: {some_tensor.device}\") # will default to CPU"
      ],
      "metadata": {
        "colab": {
          "base_uri": "https://localhost:8080/"
        },
        "id": "wsO5_vw0lVaM",
        "outputId": "de457443-e6a4-4a2b-f588-834f1237e147"
      },
      "execution_count": null,
      "outputs": [
        {
          "output_type": "stream",
          "name": "stdout",
          "text": [
            "tensor([[0.5084, 0.8689, 0.8870, 0.0088],\n",
            "        [0.9337, 0.8602, 0.1685, 0.6135],\n",
            "        [0.9793, 0.1122, 0.7116, 0.9409]])\n",
            "Shape of tensor: torch.Size([3, 4])\n",
            "Datatype of tensor: torch.float32\n",
            "Device tensor is stored on: cpu\n"
          ]
        }
      ]
    },
    {
      "cell_type": "markdown",
      "source": [
        "# **Basic operations**"
      ],
      "metadata": {
        "id": "NpTg7Tu0SUai"
      }
    },
    {
      "cell_type": "code",
      "source": [
        "# Create a tensor of values and add a number to it\n",
        "import torch\n",
        "tensor = torch.tensor([1, 2, 3])\n",
        "tensor + 10\n"
      ],
      "metadata": {
        "id": "OqdEc7NcxByx",
        "colab": {
          "base_uri": "https://localhost:8080/"
        },
        "outputId": "2d4ee877-20ac-4def-8f75-15798208e876"
      },
      "execution_count": null,
      "outputs": [
        {
          "output_type": "execute_result",
          "data": {
            "text/plain": [
              "tensor([11, 12, 13])"
            ]
          },
          "metadata": {},
          "execution_count": 17
        }
      ]
    },
    {
      "cell_type": "code",
      "source": [
        "# Multiply it by 10\n",
        "tensor * 10"
      ],
      "metadata": {
        "colab": {
          "base_uri": "https://localhost:8080/"
        },
        "id": "W2Z0LQHTScPo",
        "outputId": "41c7c5ea-d77c-42dc-8326-0f84713d599b"
      },
      "execution_count": null,
      "outputs": [
        {
          "output_type": "execute_result",
          "data": {
            "text/plain": [
              "tensor([10, 20, 30])"
            ]
          },
          "metadata": {},
          "execution_count": 18
        }
      ]
    },
    {
      "cell_type": "code",
      "source": [
        "# subtract and reassign\n",
        "tensor = tensor - 10\n",
        "tensor"
      ],
      "metadata": {
        "colab": {
          "base_uri": "https://localhost:8080/"
        },
        "id": "1JWJgQxGSyFJ",
        "outputId": "35887bfb-935c-4b0d-ff90-8b11905203d0"
      },
      "execution_count": null,
      "outputs": [
        {
          "output_type": "execute_result",
          "data": {
            "text/plain": [
              "tensor([-9, -8, -7])"
            ]
          },
          "metadata": {},
          "execution_count": 19
        }
      ]
    },
    {
      "cell_type": "code",
      "source": [
        "# add and reassign\n",
        "tensor = tensor + 10\n",
        "tensor"
      ],
      "metadata": {
        "colab": {
          "base_uri": "https://localhost:8080/"
        },
        "id": "UrO1VDVvTE6b",
        "outputId": "f0e6c795-0985-4b18-dff2-e398c277bee9"
      },
      "execution_count": null,
      "outputs": [
        {
          "output_type": "execute_result",
          "data": {
            "text/plain": [
              "tensor([1, 2, 3])"
            ]
          },
          "metadata": {},
          "execution_count": 20
        }
      ]
    },
    {
      "cell_type": "code",
      "source": [
        "# Can also use torch functions\n",
        "torch.multiply(tensor, 10)"
      ],
      "metadata": {
        "colab": {
          "base_uri": "https://localhost:8080/"
        },
        "id": "d8Da5erYTQtG",
        "outputId": "3c4498e2-bbdb-43a8-da18-764bf0e4d245"
      },
      "execution_count": null,
      "outputs": [
        {
          "output_type": "execute_result",
          "data": {
            "text/plain": [
              "tensor([10, 20, 30])"
            ]
          },
          "metadata": {},
          "execution_count": 21
        }
      ]
    },
    {
      "cell_type": "code",
      "source": [
        "# Original tensor is still unchanged\n",
        "tensor"
      ],
      "metadata": {
        "colab": {
          "base_uri": "https://localhost:8080/"
        },
        "id": "GSj_JtsOTcHo",
        "outputId": "05c5e69d-e11f-4dc5-a447-b298d413e5fb"
      },
      "execution_count": null,
      "outputs": [
        {
          "output_type": "execute_result",
          "data": {
            "text/plain": [
              "tensor([1, 2, 3])"
            ]
          },
          "metadata": {},
          "execution_count": 22
        }
      ]
    },
    {
      "cell_type": "markdown",
      "source": [
        "# **Element-wise multiplication**"
      ],
      "metadata": {
        "id": "HxIvxy2XBmAj"
      }
    },
    {
      "cell_type": "code",
      "source": [
        "# Element-wise multiplication (each element multiplies its equivalent, index 0->0, 1->1, 2->2)\n",
        "print(tensor, \"*\", tensor)\n",
        "print(\"Equals:\", tensor * tensor)         #(1*1, 2*2, 3*3)"
      ],
      "metadata": {
        "colab": {
          "base_uri": "https://localhost:8080/"
        },
        "id": "CVR3jeadTecq",
        "outputId": "9c365ba5-068d-441e-8bc7-239f7702bd8e"
      },
      "execution_count": null,
      "outputs": [
        {
          "output_type": "stream",
          "name": "stdout",
          "text": [
            "tensor([1, 2, 3]) * tensor([1, 2, 3])\n",
            "Equals: tensor([1, 4, 9])\n"
          ]
        }
      ]
    },
    {
      "cell_type": "code",
      "source": [
        "import torch\n",
        "tensor = torch.tensor([[1, 4, 9]])\n",
        "tensor.shape"
      ],
      "metadata": {
        "colab": {
          "base_uri": "https://localhost:8080/"
        },
        "id": "Id-tbbXhTj4q",
        "outputId": "4b73c479-4e53-4461-fbe2-83b7eab10330"
      },
      "execution_count": null,
      "outputs": [
        {
          "output_type": "execute_result",
          "data": {
            "text/plain": [
              "torch.Size([1, 3])"
            ]
          },
          "metadata": {},
          "execution_count": 7
        }
      ]
    },
    {
      "cell_type": "markdown",
      "source": [
        "# **matrix multiplication**"
      ],
      "metadata": {
        "id": "gCBMh1taB3pC"
      }
    },
    {
      "cell_type": "code",
      "source": [
        "tensor = torch.tensor([1, 2, 3])\n",
        "tensor.matmul(tensor)                    #(1*1 +2*2  +3*3)"
      ],
      "metadata": {
        "colab": {
          "base_uri": "https://localhost:8080/"
        },
        "id": "RcwAvkhtB-UN",
        "outputId": "b8d9b55c-279a-4238-b089-a635bb9c7abb"
      },
      "execution_count": null,
      "outputs": [
        {
          "output_type": "execute_result",
          "data": {
            "text/plain": [
              "tensor(14)"
            ]
          },
          "metadata": {},
          "execution_count": 11
        }
      ]
    },
    {
      "cell_type": "code",
      "source": [
        "import torch\n",
        "zero =  torch.zeros(size=(3,4))\n",
        "zero"
      ],
      "metadata": {
        "id": "ZfOtjo2Glc5l",
        "colab": {
          "base_uri": "https://localhost:8080/"
        },
        "outputId": "aa888429-8b27-4af4-9184-29d9becfda83"
      },
      "execution_count": null,
      "outputs": [
        {
          "output_type": "execute_result",
          "data": {
            "text/plain": [
              "tensor([[0., 0., 0., 0.],\n",
              "        [0., 0., 0., 0.],\n",
              "        [0., 0., 0., 0.]])"
            ]
          },
          "metadata": {},
          "execution_count": 4
        }
      ]
    },
    {
      "cell_type": "code",
      "source": [
        "import torch\n",
        "float_32_tensor = torch.tensor([3.0, 6.0, 9.0],dtype = torch.float32)\n",
        "print(float_32_tensor, float_32_tensor.dtype)"
      ],
      "metadata": {
        "id": "6CWqCkt6lliw",
        "colab": {
          "base_uri": "https://localhost:8080/"
        },
        "outputId": "4ab46424-6f18-45b5-96a3-03ce039b203e"
      },
      "execution_count": null,
      "outputs": [
        {
          "output_type": "stream",
          "name": "stdout",
          "text": [
            "tensor([3., 6., 9.]) torch.float32\n"
          ]
        }
      ]
    },
    {
      "cell_type": "markdown",
      "source": [
        "# **Most common Error in deep learning**"
      ],
      "metadata": {
        "id": "uI8xkJXCE7mY"
      }
    },
    {
      "cell_type": "code",
      "source": [],
      "metadata": {
        "id": "-jHYQgL-E6Rh"
      },
      "execution_count": null,
      "outputs": []
    },
    {
      "cell_type": "code",
      "source": [
        "tensor_A = torch.tensor([[1, 2],\n",
        "                         [3, 4],\n",
        "                         [5, 6]], dtype=torch.float32)\n",
        "tensor_B = torch.tensor([[2, 3],\n",
        "                         [3, 4],\n",
        "                         [4, 2]], dtype = torch.float32)"
      ],
      "metadata": {
        "id": "OFkX6B-LmRUx"
      },
      "execution_count": null,
      "outputs": []
    },
    {
      "cell_type": "markdown",
      "source": [
        "# Error due to inner dimension"
      ],
      "metadata": {
        "id": "44qWuUrbFh3L"
      }
    },
    {
      "cell_type": "code",
      "source": [
        "torch.mm(tensor_A, tensor_B)   # it will gives an error:"
      ],
      "metadata": {
        "colab": {
          "base_uri": "https://localhost:8080/",
          "height": 141
        },
        "id": "sntOi90AFFXa",
        "outputId": "9a210b6c-6bf6-4394-de29-d9289a7c8a8c"
      },
      "execution_count": null,
      "outputs": [
        {
          "output_type": "error",
          "ename": "RuntimeError",
          "evalue": "mat1 and mat2 shapes cannot be multiplied (3x2 and 3x2)",
          "traceback": [
            "\u001b[0;31m---------------------------------------------------------------------------\u001b[0m",
            "\u001b[0;31mRuntimeError\u001b[0m                              Traceback (most recent call last)",
            "\u001b[0;32m<ipython-input-17-5b62cfd78c30>\u001b[0m in \u001b[0;36m<cell line: 1>\u001b[0;34m()\u001b[0m\n\u001b[0;32m----> 1\u001b[0;31m \u001b[0mtorch\u001b[0m\u001b[0;34m.\u001b[0m\u001b[0mmm\u001b[0m\u001b[0;34m(\u001b[0m\u001b[0mtensor_A\u001b[0m\u001b[0;34m,\u001b[0m \u001b[0mtensor_B\u001b[0m\u001b[0;34m)\u001b[0m   \u001b[0;31m# it will gives an error:\u001b[0m\u001b[0;34m\u001b[0m\u001b[0;34m\u001b[0m\u001b[0m\n\u001b[0m",
            "\u001b[0;31mRuntimeError\u001b[0m: mat1 and mat2 shapes cannot be multiplied (3x2 and 3x2)"
          ]
        }
      ]
    },
    {
      "cell_type": "code",
      "source": [
        "S"
      ],
      "metadata": {
        "id": "H6bZj8PNFx-g"
      },
      "execution_count": null,
      "outputs": []
    },
    {
      "cell_type": "markdown",
      "source": [
        "# **Solution for the error:**\n",
        "## is to take transpose of one matrics to convert column into rows and vise versa"
      ],
      "metadata": {
        "id": "HohiC0BRFz_r"
      }
    },
    {
      "cell_type": "code",
      "source": [
        "print(tensor_A)\n",
        "print(tensor_B.T)\n"
      ],
      "metadata": {
        "colab": {
          "base_uri": "https://localhost:8080/"
        },
        "id": "7GT5aMglx79x",
        "outputId": "00239869-6705-4055-9640-3536c4e1941c"
      },
      "execution_count": null,
      "outputs": [
        {
          "output_type": "stream",
          "name": "stdout",
          "text": [
            "tensor([[1., 2.],\n",
            "        [3., 4.],\n",
            "        [5., 6.]])\n",
            "tensor([[2., 3., 4.],\n",
            "        [3., 4., 2.]])\n"
          ]
        }
      ]
    },
    {
      "cell_type": "code",
      "source": [
        "#torch.mm as a structure for the matmul:\n",
        "torch.mm(tensor_A, tensor_B.T)"
      ],
      "metadata": {
        "colab": {
          "base_uri": "https://localhost:8080/"
        },
        "id": "gm5PJK98y4KM",
        "outputId": "048e75c2-68ee-4e71-eef1-085ff3c3aa64"
      },
      "execution_count": null,
      "outputs": [
        {
          "output_type": "execute_result",
          "data": {
            "text/plain": [
              "tensor([[ 8., 11.,  8.],\n",
              "        [18., 25., 20.],\n",
              "        [28., 39., 32.]])"
            ]
          },
          "metadata": {},
          "execution_count": 13
        }
      ]
    },
    {
      "cell_type": "markdown",
      "source": [
        "# **tensor with matmul and with loop:**"
      ],
      "metadata": {
        "id": "_ZMRTSsuzKvS"
      }
    },
    {
      "cell_type": "code",
      "source": [
        "import torch\n",
        "# import time\n",
        "%time\n",
        "tensor = torch.tensor([1, 2, 3])\n",
        "value = 0\n",
        "for i in range(len(tensor)):\n",
        "    value += tensor[i] * tensor[i]\n",
        "print(value)\n"
      ],
      "metadata": {
        "id": "N6g8r0NVzFl9",
        "colab": {
          "base_uri": "https://localhost:8080/"
        },
        "outputId": "13507397-714c-4865-cf26-76f7bb1fae3b"
      },
      "execution_count": null,
      "outputs": [
        {
          "output_type": "stream",
          "name": "stdout",
          "text": [
            "CPU times: user 3 µs, sys: 0 ns, total: 3 µs\n",
            "Wall time: 7.15 µs\n",
            "tensor(14)\n"
          ]
        }
      ]
    },
    {
      "cell_type": "code",
      "source": [
        "%time\n",
        "torch.matmul(tensor, tensor)\n",
        "# print(tensor)"
      ],
      "metadata": {
        "colab": {
          "base_uri": "https://localhost:8080/"
        },
        "id": "nQsvmzdAzGz9",
        "outputId": "54919cbc-d36e-4f0c-d5a3-ca3317059444"
      },
      "execution_count": null,
      "outputs": [
        {
          "output_type": "stream",
          "name": "stdout",
          "text": [
            "CPU times: user 2 µs, sys: 0 ns, total: 2 µs\n",
            "Wall time: 5.48 µs\n"
          ]
        },
        {
          "output_type": "execute_result",
          "data": {
            "text/plain": [
              "tensor(14)"
            ]
          },
          "metadata": {},
          "execution_count": 5
        }
      ]
    },
    {
      "cell_type": "code",
      "source": [],
      "metadata": {
        "id": "aPMVp-TLzG5q"
      },
      "execution_count": null,
      "outputs": []
    },
    {
      "cell_type": "markdown",
      "source": [
        "# Finding the Min, Max, Mean, sum etc (aggregation)."
      ],
      "metadata": {
        "id": "MANqH1uj4BYE"
      }
    },
    {
      "cell_type": "code",
      "source": [
        "# ist we will create tensor:\n",
        "import torch\n",
        "X = torch.arange(0, 100, 10)\n",
        "print(X)"
      ],
      "metadata": {
        "colab": {
          "base_uri": "https://localhost:8080/"
        },
        "id": "rtBKfc5Z4Xeg",
        "outputId": "bde691a6-6309-4236-b460-b57e8a931d5d"
      },
      "execution_count": null,
      "outputs": [
        {
          "output_type": "stream",
          "name": "stdout",
          "text": [
            "tensor([ 0, 10, 20, 30, 40, 50, 60, 70, 80, 90])\n"
          ]
        }
      ]
    },
    {
      "cell_type": "markdown",
      "source": [
        "# performing operation on above tensor"
      ],
      "metadata": {
        "id": "t_6zFei84_RI"
      }
    },
    {
      "cell_type": "code",
      "source": [
        "print(f\"Minimum of above tensor: {X.min()}\")\n",
        "print(f\"Maximum of above tensor: {X.max()}\")\n",
        "print(f\"Mean of above tensor: {X.type(torch.float16).mean()}\")\n",
        "print(f\"Sum of above tensor: {X.sum()}\")\n",
        "print(f\"Mean of above tensor: {X.type(torch.float32).mean()}\")\n",
        "print(f\"Mean of above tensor: {X.type(torch.float64).mean()}\")\n"
      ],
      "metadata": {
        "colab": {
          "base_uri": "https://localhost:8080/"
        },
        "id": "Bb2qp94L5Dtg",
        "outputId": "b73484e6-7f5a-4510-9256-2e3af12ae624"
      },
      "execution_count": null,
      "outputs": [
        {
          "output_type": "stream",
          "name": "stdout",
          "text": [
            "Minimum of above tensor: 0\n",
            "Maximum of above tensor: 90\n",
            "Mean of above tensor: 45.0\n",
            "Sum of above tensor: 450\n",
            "Mean of above tensor: 45.0\n",
            "Mean of above tensor: 45.0\n"
          ]
        }
      ]
    },
    {
      "cell_type": "code",
      "source": [
        "Z = torch.arange(100, 200, 15)\n",
        "print(Z)"
      ],
      "metadata": {
        "colab": {
          "base_uri": "https://localhost:8080/"
        },
        "id": "-jtxXFvH5FMs",
        "outputId": "a96e06d3-cf2e-4468-c192-be3dec5a877f"
      },
      "execution_count": null,
      "outputs": [
        {
          "output_type": "stream",
          "name": "stdout",
          "text": [
            "tensor([100, 115, 130, 145, 160, 175, 190])\n"
          ]
        }
      ]
    },
    {
      "cell_type": "code",
      "source": [
        "# Positional maximum and minimum of tensor:\n",
        "print(f'Maximum of tensor_Z is : {Z.max(), Z.argmax()}')\n",
        "print(f'Minimum of tensor_Z is : {Z.min(), Z.argmin()}')\n",
        "print(f'Mean of tensor_Z is : {Z.type(torch.float16).mean()}')\n",
        "print(f'Sum of tensor_Z is : {Z.sum()}')"
      ],
      "metadata": {
        "colab": {
          "base_uri": "https://localhost:8080/"
        },
        "id": "6fh0FN2k6dbd",
        "outputId": "bfaf8769-2fcd-404f-e6c6-1fc492e6db12"
      },
      "execution_count": null,
      "outputs": [
        {
          "output_type": "stream",
          "name": "stdout",
          "text": [
            "Maximum of tensor_Z is : (tensor(190), tensor(6))\n",
            "Minimum of tensor_Z is : (tensor(100), tensor(0))\n",
            "Mean of tensor_Z is : 145.0\n",
            "Sum of tensor_Z is : 1015\n"
          ]
        }
      ]
    },
    {
      "cell_type": "markdown",
      "source": [
        "# must look after the common issue of datatype\n",
        "#### the tensor should be in same dtype to be used for any kind of operation in future other wise you will face error so must keep the datatype of your tensor same before using for any kind of operation by defult dtype of any tensor is float32 lets create and check for the datatype"
      ],
      "metadata": {
        "id": "7fYyJCF48epl"
      }
    },
    {
      "cell_type": "code",
      "source": [
        "x =  torch.arange(10., 100., 10.)\n",
        "print(x.dtype, x)"
      ],
      "metadata": {
        "colab": {
          "base_uri": "https://localhost:8080/"
        },
        "id": "I1-mnrHT8ePj",
        "outputId": "2013bd31-1c0e-46c2-b4aa-f400c68d24f2"
      },
      "execution_count": null,
      "outputs": [
        {
          "output_type": "stream",
          "name": "stdout",
          "text": [
            "torch.float32 tensor([10., 20., 30., 40., 50., 60., 70., 80., 90.])\n"
          ]
        }
      ]
    },
    {
      "cell_type": "code",
      "source": [
        "# as we see by defulat the datatype was float32 now we will create the same tensor but will set the datatype\n",
        "x_float16 = x.type(torch.float16)\n",
        "print(x_float16)"
      ],
      "metadata": {
        "colab": {
          "base_uri": "https://localhost:8080/"
        },
        "id": "mv1k2sR_6o-M",
        "outputId": "292ea7d1-5c93-468a-8505-19d89bc26f2a"
      },
      "execution_count": null,
      "outputs": [
        {
          "output_type": "stream",
          "name": "stdout",
          "text": [
            "tensor([10., 20., 30., 40., 50., 60., 70., 80., 90.], dtype=torch.float16)\n"
          ]
        }
      ]
    },
    {
      "cell_type": "code",
      "source": [],
      "metadata": {
        "id": "U_k7JS1T-ptm"
      },
      "execution_count": null,
      "outputs": []
    },
    {
      "cell_type": "markdown",
      "source": [
        "# Creation of random tensor:\n",
        "### for the creation of random tensor we will use torch.rand() and will pass a size as a perameter:\n",
        "### the flexibilty of torch.rand() is that we can adjust the size to be what ever we want\n"
      ],
      "metadata": {
        "id": "2Vwr-C4xCBsY"
      }
    },
    {
      "cell_type": "code",
      "source": [
        "# lets create a random tesnor of any size you want\n",
        "import torch\n",
        "random_tensor = torch.rand(2, 3)\n",
        "print(random_tensor, random_tensor.dtype)"
      ],
      "metadata": {
        "colab": {
          "base_uri": "https://localhost:8080/"
        },
        "id": "chA5Bu0XAww0",
        "outputId": "1c8585bb-f315-4b47-fa1a-5d1f94ded4a4"
      },
      "execution_count": null,
      "outputs": [
        {
          "output_type": "stream",
          "name": "stdout",
          "text": [
            "tensor([[0.4914, 0.1562, 0.3248],\n",
            "        [0.4576, 0.4660, 0.3196]]) torch.float32\n"
          ]
        }
      ]
    },
    {
      "cell_type": "markdown",
      "source": [
        "\n",
        "# Creating a range and tensors like"
      ],
      "metadata": {
        "id": "Y5wQqzxDHvct"
      }
    },
    {
      "cell_type": "code",
      "source": [
        "# we will use torch.arange, torch.range() is deprecated\n",
        "zero_to_ten_deprecated = torch.range(0, 10) # this may retun an error in future\n",
        "\n",
        "# create a range of value 0 to 10\n",
        "zero_to_ten = torch.arange(start = 0, end = 10, step = 1)\n",
        "print(zero_to_ten)"
      ],
      "metadata": {
        "colab": {
          "base_uri": "https://localhost:8080/"
        },
        "id": "q3m9pmmYBzbG",
        "outputId": "02a2f3a1-409a-4a19-e5a5-b771eae7bd13"
      },
      "execution_count": null,
      "outputs": [
        {
          "output_type": "stream",
          "name": "stdout",
          "text": [
            "tensor([0, 1, 2, 3, 4, 5, 6, 7, 8, 9])\n"
          ]
        },
        {
          "output_type": "stream",
          "name": "stderr",
          "text": [
            "<ipython-input-3-0526ccf8d59a>:2: UserWarning: torch.range is deprecated and will be removed in a future release because its behavior is inconsistent with Python's range builtin. Instead, use torch.arange, which produces values in [start, end).\n",
            "  zero_to_ten_deprecated = torch.range(0, 10) # this may retun an error in future\n"
          ]
        }
      ]
    },
    {
      "cell_type": "markdown",
      "source": [
        "## some time we want one tensor of certain type with same shape as another tensor.\n",
        "### For example, a tensor of all zeros with same shape as a previous tensor.\n",
        "### To do so you can use--->... **torch.zeros_like(input)** or **torch.ones_like (input)** respectively"
      ],
      "metadata": {
        "id": "QGQ0f1p0T14s"
      }
    },
    {
      "cell_type": "code",
      "source": [
        "# now we will create a tensor of zeros similar to another tensor:\n",
        "ten_zeros = torch.zeros_like(input = zero_to_ten, dtype = torch.float32)\n",
        "print(ten_zeros, ten_zeros.dtype)"
      ],
      "metadata": {
        "id": "KhcC9XqdJxlm",
        "colab": {
          "base_uri": "https://localhost:8080/"
        },
        "outputId": "8376a16f-0bed-4069-a8b7-dd1254f559a3"
      },
      "execution_count": null,
      "outputs": [
        {
          "output_type": "stream",
          "name": "stdout",
          "text": [
            "tensor([0., 0., 0., 0., 0., 0., 0., 0., 0., 0.]) torch.float32\n"
          ]
        }
      ]
    },
    {
      "cell_type": "code",
      "source": [
        "# in this section now we will create the tensor of ones similar to another tensor:\n",
        "ten_ones = torch.ones_like(input = zero_to_ten, dtype =  torch.int32)\n",
        "print(ten_ones)"
      ],
      "metadata": {
        "colab": {
          "base_uri": "https://localhost:8080/"
        },
        "id": "qJ4VE3Y-VU3G",
        "outputId": "d76b8f3f-083e-42a4-b942-7ca5581efd17"
      },
      "execution_count": null,
      "outputs": [
        {
          "output_type": "stream",
          "name": "stdout",
          "text": [
            "tensor([1, 1, 1, 1, 1, 1, 1, 1, 1, 1], dtype=torch.int32)\n"
          ]
        }
      ]
    },
    {
      "cell_type": "code",
      "source": [],
      "metadata": {
        "id": "2p7_bVvGWR2_"
      },
      "execution_count": null,
      "outputs": []
    },
    {
      "cell_type": "markdown",
      "source": [
        "# dtype\n",
        "## There are many different tensor dtattypes avalibale in pytorc. Some are specific for CPU and some are specific for GPU."
      ],
      "metadata": {
        "id": "Jj4XKUnIYJ0T"
      }
    },
    {
      "cell_type": "code",
      "source": [
        "# now lets see how to create some tensor with specific data type . We can do so using te dtype parameter.\n",
        "# default dtype for tensor is float32:\n",
        "float_32_tensor = torch.tensor([3.0, 6.0, 9.0],\n",
        "                               dtype = None,\n",
        "                               device = None,\n",
        "                               requires_grad = False)\n",
        "print(float_32_tensor.shape, float_32_tensor.dtype, float_32_tensor.device)"
      ],
      "metadata": {
        "colab": {
          "base_uri": "https://localhost:8080/"
        },
        "id": "dqDvhjGvYQQU",
        "outputId": "ab1e846d-16a4-44a5-c16b-afe4b4955c16"
      },
      "execution_count": null,
      "outputs": [
        {
          "output_type": "stream",
          "name": "stdout",
          "text": [
            "torch.Size([3]) torch.float32 cpu\n"
          ]
        }
      ]
    },
    {
      "cell_type": "code",
      "source": [],
      "metadata": {
        "id": "4XO6V1pJZkxn"
      },
      "execution_count": null,
      "outputs": []
    },
    {
      "cell_type": "markdown",
      "source": [
        "# 3 most common issues:\n",
        "## tensor.shape\n",
        "## tensor.dtype\n",
        "## tensor.device issue\n"
      ],
      "metadata": {
        "id": "wSGqBzo2cR6_"
      }
    },
    {
      "cell_type": "code",
      "source": [
        "# for now lets create a tensor with dtype = torch.float16:\n",
        "float_16_tensor = torch.tensor([3.0, 6.0, 9.0],\n",
        "                               dtype = torch.float16)\n",
        "print(float_16_tensor)"
      ],
      "metadata": {
        "colab": {
          "base_uri": "https://localhost:8080/"
        },
        "id": "9gJg8m0WczBq",
        "outputId": "b0101cb9-338c-4e60-8daf-b65582a02b35"
      },
      "execution_count": null,
      "outputs": [
        {
          "output_type": "stream",
          "name": "stdout",
          "text": [
            "tensor([3., 6., 9.], dtype=torch.float16)\n"
          ]
        }
      ]
    },
    {
      "cell_type": "code",
      "source": [],
      "metadata": {
        "id": "XtnLrHcPeDgU"
      },
      "execution_count": null,
      "outputs": []
    },
    {
      "cell_type": "markdown",
      "source": [
        "# **Getting information from tensors:**\n",
        "### we've seen these before but three of the most common attributes you'll want to find out about tensor are:\n",
        "## **shape**:\n",
        "### what shape is the tensor?(some operation require specific shape rules)\n",
        "## **dtype**:\n",
        "### what datatype are the elements within the tensor stored in ?\n",
        "## **device**:\n",
        "### what device is the tensor stored on?(usually GPU OR CPU)"
      ],
      "metadata": {
        "id": "0Ol2YZ1CebUf"
      }
    },
    {
      "cell_type": "code",
      "source": [
        "# Lets create tensor with some number you want:\n",
        "some_tensor = torch.rand(3, 4)\n",
        "# Find out details about it:\n",
        "print(some_tensor)\n",
        "print(f\"The shape of tensor is: {some_tensor.shape}\")\n",
        "print(f\"The dtype of tensor is: {some_tensor.dtype}\")\n",
        "print(f\"The device of tensor stored on: {some_tensor.device}\")"
      ],
      "metadata": {
        "colab": {
          "base_uri": "https://localhost:8080/"
        },
        "id": "rcFzwettgys6",
        "outputId": "25741688-4e5f-4323-e8dc-9282f97bdfea"
      },
      "execution_count": null,
      "outputs": [
        {
          "output_type": "stream",
          "name": "stdout",
          "text": [
            "tensor([[0.6179, 0.1652, 0.7747, 0.5404],\n",
            "        [0.4326, 0.5829, 0.4941, 0.8683],\n",
            "        [0.7662, 0.3327, 0.9478, 0.3886]])\n",
            "The shape of tensor is: torch.Size([3, 4])\n",
            "The dtype of tensor is: torch.float32\n",
            "The device of tensor stored on: cpu\n"
          ]
        }
      ]
    },
    {
      "cell_type": "markdown",
      "source": [
        "# Reshaping, stacking, squeezing and unsqueezing\n",
        "## Durnig the training many time we will want to reshape or change the dimensions of our tensor without actually changing the values inside them"
      ],
      "metadata": {
        "id": "uKAcpQdhzEmm"
      }
    },
    {
      "cell_type": "code",
      "source": [
        "# lets create tensor:\n",
        "import torch\n",
        "S = torch.arange(1., 9.)\n",
        "print(S, S.shape, S.dtype)"
      ],
      "metadata": {
        "id": "WUo-MaKBDFQq",
        "colab": {
          "base_uri": "https://localhost:8080/"
        },
        "outputId": "afe8f7b3-b036-49b0-d61c-ee4884daa850"
      },
      "execution_count": null,
      "outputs": [
        {
          "output_type": "stream",
          "name": "stdout",
          "text": [
            "tensor([1., 2., 3., 4., 5., 6., 7., 8.]) torch.Size([8]) torch.float32\n"
          ]
        }
      ]
    },
    {
      "cell_type": "markdown",
      "source": [
        "# **Reshaping**\n",
        "## now we will add extra dimension to the above tensor with the following code:\n",
        "**torch.reshape()**"
      ],
      "metadata": {
        "id": "hAchTaq40lpd"
      }
    },
    {
      "cell_type": "code",
      "source": [
        "# let start with reshape to add an extra dimension:\n",
        "# The important thik to be in mind about reshape is that the dimensions should be compatible to the original dimension:\n",
        "\n",
        "S_reshaped = S.reshape(1, 8)    # (rows, column)    # if the perameter given to the reshape() method are less or greater then the actuall tensor it will cause error\n",
        "# S_error = S.reshape(3,2)       # shape '[3, 2]' is invalid for input of size 8\n",
        "print(S_reshaped)"
      ],
      "metadata": {
        "colab": {
          "base_uri": "https://localhost:8080/"
        },
        "id": "HkUksRmV86fL",
        "outputId": "20060d63-cbe2-4fd1-a94d-3f79419829fc"
      },
      "execution_count": null,
      "outputs": [
        {
          "output_type": "stream",
          "name": "stdout",
          "text": [
            "tensor([[ 1.,  2.,  3.,  4., 55.,  6.,  7.,  8.]])\n"
          ]
        }
      ]
    },
    {
      "cell_type": "markdown",
      "source": [
        "# **view**\n",
        "## return a view of an input tensor of certain shape but keep the same memory as the original tensor"
      ],
      "metadata": {
        "id": "W5qPb_l-3Coe"
      }
    },
    {
      "cell_type": "code",
      "source": [
        "# lets try to change the view:\n",
        "V = S.view(1,8)\n",
        "print(V,  V.shape)"
      ],
      "metadata": {
        "colab": {
          "base_uri": "https://localhost:8080/"
        },
        "id": "TPVxfGGc1LDS",
        "outputId": "db46865a-0dd8-4b91-8c07-88fcf548f062"
      },
      "execution_count": null,
      "outputs": [
        {
          "output_type": "stream",
          "name": "stdout",
          "text": [
            "tensor([[1., 2., 3., 4., 5., 6., 7., 8.]]) torch.Size([1, 8])\n"
          ]
        }
      ]
    },
    {
      "cell_type": "markdown",
      "source": [
        "# **Change in view:**\n",
        "## Changing V changes S (Because a view of a tensor share the same memory as the original input)"
      ],
      "metadata": {
        "id": "c2zAURTZ91mb"
      }
    },
    {
      "cell_type": "code",
      "source": [
        "# lets try a change in view:\n",
        "V[:, 4] = 55     # this will change the element of both view and original because view effect the original one :\n",
        "\n",
        "print(V , S)"
      ],
      "metadata": {
        "colab": {
          "base_uri": "https://localhost:8080/"
        },
        "id": "sv9hukNo3gnK",
        "outputId": "35097aff-8226-4f9c-e138-0a55b208fe76"
      },
      "execution_count": null,
      "outputs": [
        {
          "output_type": "stream",
          "name": "stdout",
          "text": [
            "tensor([[ 1.,  2.,  3.,  4., 55.,  6.,  7.,  8.]]) tensor([ 1.,  2.,  3.,  4., 55.,  6.,  7.,  8.])\n"
          ]
        }
      ]
    },
    {
      "cell_type": "markdown",
      "source": [
        "# **Stacking :**\n",
        "## combine multipe tensors on top os each other (vstack) or side by side (hstack) along a new dimension"
      ],
      "metadata": {
        "id": "E7n2Nzz23hCL"
      }
    },
    {
      "cell_type": "code",
      "source": [
        "# lets try stacking where we will stack tensor on the top of each other\n",
        "S_stacked = torch.stack([S,S,S,S], dim = 0)  # we can also chane the dimension to 1:\n",
        "print(S_stacked, S_stacked.dtype, S_stacked.shape)"
      ],
      "metadata": {
        "colab": {
          "base_uri": "https://localhost:8080/"
        },
        "id": "Y3NfR6ha3oqJ",
        "outputId": "0a9f9ffc-e726-488e-8abb-cfd6bce139dd"
      },
      "execution_count": null,
      "outputs": [
        {
          "output_type": "stream",
          "name": "stdout",
          "text": [
            "tensor([[ 1.,  2.,  3.,  4., 55.,  6.,  7.,  8.],\n",
            "        [ 1.,  2.,  3.,  4., 55.,  6.,  7.,  8.],\n",
            "        [ 1.,  2.,  3.,  4., 55.,  6.,  7.,  8.],\n",
            "        [ 1.,  2.,  3.,  4., 55.,  6.,  7.,  8.]]) torch.float32 torch.Size([4, 8])\n"
          ]
        }
      ]
    },
    {
      "cell_type": "markdown",
      "source": [
        "# **Squeeze:**\n",
        "## remove all \"1\" dimensions from a tensor"
      ],
      "metadata": {
        "id": "usqxJc154Qct"
      }
    },
    {
      "cell_type": "code",
      "source": [
        "print(f\"previous tesnor:{S_reshaped}\")\n",
        "print(f\"previous tesnor:{S_reshaped.shape}\")\n",
        "\n",
        "#Using squeeze to remove all the extra dimensions form the tensor:\n",
        "S_squeezed =  S_reshaped.squeeze()\n",
        "print(f\"\\nNew Tensor: {S_squeezed}\")\n",
        "print(f\"\\nNew shape : {S_squeezed.shape}\")\n",
        "\n",
        "# notice the change in the previouse tensor and new tensor dimensions you will find the difference :"
      ],
      "metadata": {
        "colab": {
          "base_uri": "https://localhost:8080/"
        },
        "id": "Nkvxk3cI4hy8",
        "outputId": "5607ce89-57f4-4102-8ff5-c0eccfb1b859"
      },
      "execution_count": null,
      "outputs": [
        {
          "output_type": "stream",
          "name": "stdout",
          "text": [
            "previous tesnor:tensor([[ 1.,  2.,  3.,  4., 55.,  6.,  7.,  8.]])\n",
            "previous tesnor:torch.Size([1, 8])\n",
            "\n",
            "New Tensor: tensor([ 1.,  2.,  3.,  4., 55.,  6.,  7.,  8.])\n",
            "\n",
            "New shape : torch.Size([8])\n"
          ]
        }
      ]
    },
    {
      "cell_type": "markdown",
      "source": [
        "# **unsqueeze:**\n",
        "## add a \"1\" dimension to a target tensor"
      ],
      "metadata": {
        "id": "SW5BAnAr4irs"
      }
    },
    {
      "cell_type": "code",
      "source": [
        "# torch.unsqueeze add a single dimension to a target tensor at a specific dimension:\n",
        "print(f\"previous target:{S_squeezed}\")\n",
        "print(f\"previous tesnor:{S_squeezed.shape}\")\n",
        "\n",
        "#Using unsqueeze to add one single dimensions to a target tensor:\n",
        "S_unsqueezed =  S_squeezed.unsqueeze(dim = 1)\n",
        "print(f\"\\nNew Tensor: {S_unsqueezed}\")\n",
        "print(f\"\\nNew shape : {S_unsqueezed.shape}\")\n",
        "\n",
        "# notice the change in the previouse tensor and new tensor dimensions you will find the difference :"
      ],
      "metadata": {
        "colab": {
          "base_uri": "https://localhost:8080/"
        },
        "id": "-HevCFuM4xAE",
        "outputId": "8fa8ff14-0af3-4873-ba7e-b2ded1874bb2"
      },
      "execution_count": null,
      "outputs": [
        {
          "output_type": "stream",
          "name": "stdout",
          "text": [
            "previous target:tensor([ 1.,  2.,  3.,  4., 55.,  6.,  7.,  8.])\n",
            "previous tesnor:torch.Size([8])\n",
            "\n",
            "New Tensor: tensor([[ 1.],\n",
            "        [ 2.],\n",
            "        [ 3.],\n",
            "        [ 4.],\n",
            "        [55.],\n",
            "        [ 6.],\n",
            "        [ 7.],\n",
            "        [ 8.]])\n",
            "\n",
            "New shape : torch.Size([8, 1])\n"
          ]
        }
      ]
    },
    {
      "cell_type": "markdown",
      "source": [
        "# **Permute:**\n",
        "## return a view of the input with dimension permuted(swapped) in a certain way:"
      ],
      "metadata": {
        "id": "y2Ha2XD04zDc"
      }
    },
    {
      "cell_type": "code",
      "source": [
        "# torch.permute : rearrange the dimension of a taret tensor in a specified order:\n",
        "S_original = torch.rand(size = (224, 224, 3))      #(height, width, color_cannels)\n",
        "\n",
        "# permute the original tensor to rearrange the axis or dimensions or order\n",
        "S_permuted = S_original.permute(2, 0, 1)   # shifts axis 0-> 1, 1-> 2, 2-> 0\n",
        "print(f\"previous shape : {S_original.shape}\")\n",
        "print(f\"new shape : {S_permuted.shape}\")\n"
      ],
      "metadata": {
        "colab": {
          "base_uri": "https://localhost:8080/"
        },
        "id": "zeRgxaos5Cgf",
        "outputId": "5a8291c0-36c6-43ae-fe35-33d474b43095"
      },
      "execution_count": null,
      "outputs": [
        {
          "output_type": "stream",
          "name": "stdout",
          "text": [
            "previous shape : torch.Size([224, 224, 3])\n",
            "new shape : torch.Size([3, 224, 224])\n"
          ]
        }
      ]
    },
    {
      "cell_type": "markdown",
      "source": [
        "# **Indexing**(selecting data form tesnors)\n",
        "sometime we will want to select specific data from tesnor(for example, only first column or secend row)\n"
      ],
      "metadata": {
        "id": "D_ieldFmcc6A"
      }
    },
    {
      "cell_type": "code",
      "source": [
        "# lets create a tensor\n",
        "import torch\n",
        "tensor_1 = torch.arange(1, 10).reshape(1, 3, 3)\n",
        "print(tensor_1, tensor_1.shape, tensor_1.ndim)"
      ],
      "metadata": {
        "id": "vtiCRUGMI4eN",
        "colab": {
          "base_uri": "https://localhost:8080/"
        },
        "outputId": "e866c06f-2ee7-405c-a1eb-f88d7203cd4a"
      },
      "execution_count": null,
      "outputs": [
        {
          "output_type": "stream",
          "name": "stdout",
          "text": [
            "tensor([[[1, 2, 3],\n",
            "         [4, 5, 6],\n",
            "         [7, 8, 9]]]) torch.Size([1, 3, 3]) 3\n"
          ]
        }
      ]
    },
    {
      "cell_type": "code",
      "source": [
        "tensor_1[:, 1:, :]"
      ],
      "metadata": {
        "colab": {
          "base_uri": "https://localhost:8080/"
        },
        "id": "-AqavlHbgMfA",
        "outputId": "44965a88-b969-48ac-b8eb-d9e3430255c4"
      },
      "execution_count": null,
      "outputs": [
        {
          "output_type": "execute_result",
          "data": {
            "text/plain": [
              "tensor([[[4, 5, 6],\n",
              "         [7, 8, 9]]])"
            ]
          },
          "metadata": {},
          "execution_count": 68
        }
      ]
    },
    {
      "cell_type": "code",
      "source": [
        "# lets try to get all value of the 0th index of 1st dimension\n",
        "tensor_1[:, 0]"
      ],
      "metadata": {
        "colab": {
          "base_uri": "https://localhost:8080/"
        },
        "id": "YI59iIofg8yL",
        "outputId": "1cb406c3-1847-4347-b670-515f6640b88b"
      },
      "execution_count": null,
      "outputs": [
        {
          "output_type": "execute_result",
          "data": {
            "text/plain": [
              "tensor([[1, 2, 3]])"
            ]
          },
          "metadata": {},
          "execution_count": 71
        }
      ]
    },
    {
      "cell_type": "code",
      "source": [
        "# to get all values of 0th and 1st dimension but only index of 1 and 2nd dimension\n",
        "tensor_1[:, :, 1]"
      ],
      "metadata": {
        "colab": {
          "base_uri": "https://localhost:8080/"
        },
        "id": "A5kOC_Mmh9EI",
        "outputId": "6ee69d30-8949-44f4-a01d-33b91cb5a98d"
      },
      "execution_count": null,
      "outputs": [
        {
          "output_type": "execute_result",
          "data": {
            "text/plain": [
              "tensor([[2, 5, 8]])"
            ]
          },
          "metadata": {},
          "execution_count": 72
        }
      ]
    },
    {
      "cell_type": "code",
      "source": [
        "# Get all values of the 0 dimension but only the 1 index value of the 1st and 2nd dimension\n",
        "tensor_1[:, 1, 1]"
      ],
      "metadata": {
        "colab": {
          "base_uri": "https://localhost:8080/"
        },
        "id": "6SO6D3QliqPu",
        "outputId": "be6ac513-9384-4a1e-8cee-46581f9b8843"
      },
      "execution_count": null,
      "outputs": [
        {
          "output_type": "execute_result",
          "data": {
            "text/plain": [
              "tensor([5])"
            ]
          },
          "metadata": {},
          "execution_count": 82
        }
      ]
    },
    {
      "cell_type": "code",
      "source": [
        "# Get index 0 of 0th and 1st dimension and all values of 2nd dimension\n",
        "tensor_1[:, 0, :]"
      ],
      "metadata": {
        "colab": {
          "base_uri": "https://localhost:8080/"
        },
        "id": "6zUZApftjCjg",
        "outputId": "54ec4505-6472-4408-fc73-db71f9cc85c8"
      },
      "execution_count": null,
      "outputs": [
        {
          "output_type": "execute_result",
          "data": {
            "text/plain": [
              "tensor([[1, 2, 3]])"
            ]
          },
          "metadata": {},
          "execution_count": 84
        }
      ]
    },
    {
      "cell_type": "markdown",
      "source": [
        "# **PyTorch tensors & NumPy**\n",
        "numpy is popular pyhton numerical computing library, pytorch has functionality to interact with it nicely.\n",
        "The two main methods you'll want to use for NumPy to PyTorch (and back again) are:\n",
        "\n",
        "**torch.from_numpy(ndarray)** - NumPy array -> PyTorch tensor.\n",
        "**torch.Tensor.numpy()** - PyTorch tensor -> NumPy array."
      ],
      "metadata": {
        "id": "Uu_TWpWlkDt2"
      }
    },
    {
      "cell_type": "code",
      "source": [
        "# NumPy array to tensor\n",
        "import torch\n",
        "import numpy as np\n",
        "array = np.arange(1.0, 8.0)\n",
        "tensor = torch.from_numpy(array)\n",
        "\"\"\"\n",
        "Note: By default, NumPy arrays are created with the datatype float64\n",
        "and if you convert it to a PyTorch tensor, it'll keep the same datatype (as above).\n",
        "However, many PyTorch calculations default to using float32.\n",
        "So if you want to convert your NumPy array (float64) ->\n",
        "PyTorch tensor (float64) -> PyTorch tensor (float32),\n",
        "you can use tensor = torch.from_numpy(array).type(torch.float32).\n",
        "\"\"\"\n",
        "tensor_float32 = torch.from_numpy(array).type(torch.float32)\n",
        "\n",
        "\n",
        "array, tensor, tensor_float32, tensor_float32.dtype"
      ],
      "metadata": {
        "colab": {
          "base_uri": "https://localhost:8080/"
        },
        "id": "mmmC4lD2jvEr",
        "outputId": "10cc6622-a158-4c4e-a9af-7b979dbad084"
      },
      "execution_count": null,
      "outputs": [
        {
          "output_type": "execute_result",
          "data": {
            "text/plain": [
              "(array([1., 2., 3., 4., 5., 6., 7.]),\n",
              " tensor([1., 2., 3., 4., 5., 6., 7.], dtype=torch.float64),\n",
              " tensor([1., 2., 3., 4., 5., 6., 7.]),\n",
              " torch.float32)"
            ]
          },
          "metadata": {},
          "execution_count": 89
        }
      ]
    },
    {
      "cell_type": "code",
      "source": [
        "# change the array, keep the tensor\n",
        "array = array + 1\n",
        "print(array, tensor)"
      ],
      "metadata": {
        "colab": {
          "base_uri": "https://localhost:8080/"
        },
        "id": "8h1T_mUtlxGV",
        "outputId": "063746af-b84c-458b-be1e-27bd2f6f7f08"
      },
      "execution_count": null,
      "outputs": [
        {
          "output_type": "stream",
          "name": "stdout",
          "text": [
            "[2. 3. 4. 5. 6. 7. 8.] tensor([1., 2., 3., 4., 5., 6., 7.], dtype=torch.float64)\n"
          ]
        }
      ]
    },
    {
      "cell_type": "markdown",
      "source": [
        "# **PyTorch tensor to NumPy array**\n",
        "you can call **tensor.numpy()**."
      ],
      "metadata": {
        "id": "T2wjds-cnw7_"
      }
    },
    {
      "cell_type": "code",
      "source": [
        "# lets try to convert the tensor to numpy:\n",
        "tensor = torch.ones(7)       # create a tensor of ones with dtype=float32\n",
        "numpy_tensor = tensor.numpy()\n",
        "print(tensor, numpy_tensor, numpy_tensor.dtype)\n",
        "type(numpy_tensor)"
      ],
      "metadata": {
        "colab": {
          "base_uri": "https://localhost:8080/"
        },
        "id": "FUmxeEEvnqbc",
        "outputId": "67767dba-b561-4159-e7fa-23ed11841f87"
      },
      "execution_count": null,
      "outputs": [
        {
          "output_type": "stream",
          "name": "stdout",
          "text": [
            "tensor([1., 1., 1., 1., 1., 1., 1.]) [1. 1. 1. 1. 1. 1. 1.] float32\n"
          ]
        },
        {
          "output_type": "execute_result",
          "data": {
            "text/plain": [
              "numpy.ndarray"
            ]
          },
          "metadata": {},
          "execution_count": 106
        }
      ]
    },
    {
      "cell_type": "code",
      "source": [
        "# if you change the original tensor, the new numpy_tensor stays the same.\n",
        "tensor = tensor + 1\n",
        "print(tensor, numpy_tensor)"
      ],
      "metadata": {
        "colab": {
          "base_uri": "https://localhost:8080/"
        },
        "id": "oqYnslqfoZ_i",
        "outputId": "23fd5f61-5550-4177-e7be-9fa0b78a257e"
      },
      "execution_count": null,
      "outputs": [
        {
          "output_type": "stream",
          "name": "stdout",
          "text": [
            "tensor([2., 2., 2., 2., 2., 2., 2.]) [1. 1. 1. 1. 1. 1. 1.]\n"
          ]
        }
      ]
    },
    {
      "cell_type": "markdown",
      "source": [
        "# **Reproducibility** (trying to take the random out of random)\n",
        "As you learn more about neural networks and machine learning, you'll start to discover how much randomness plays a part.\n",
        "\n",
        "Well, pseudorandomness that is. Because after all, as they're designed, a computer is fundamentally deterministic (each step is predictable) so the randomness they create are simulated randomness (though there is debate on this too, but since I'm not a computer scientist, I'll let you find out more yourself)."
      ],
      "metadata": {
        "id": "OKZURJvDqPAB"
      }
    },
    {
      "cell_type": "code",
      "source": [
        "# The followig code will create two tensor of each different number of both tensors:\n",
        "import torch\n",
        "\n",
        "# Create two random tensors\n",
        "random_tensor_A = torch.rand(3, 4)\n",
        "random_tensor_B = torch.rand(3, 4)\n",
        "\n",
        "print(f\"Tensor A:\\n{random_tensor_A}\\n\")\n",
        "print(f\"Tensor B:\\n{random_tensor_B}\\n\")\n",
        "print(f\"Does Tensor A equal Tensor B? (anywhere)\")\n",
        "random_tensor_A == random_tensor_B\n",
        "# the output of this code will be false for every element of both tensors:\n"
      ],
      "metadata": {
        "id": "vHGOArNupZcL",
        "colab": {
          "base_uri": "https://localhost:8080/"
        },
        "outputId": "b0ee0f71-01ea-468b-ad08-1f7da294f6df"
      },
      "execution_count": null,
      "outputs": [
        {
          "output_type": "stream",
          "name": "stdout",
          "text": [
            "Tensor A:\n",
            "tensor([[0.6937, 0.4867, 0.9161, 0.6645],\n",
            "        [0.9379, 0.3326, 0.7756, 0.0311],\n",
            "        [0.7886, 0.0667, 0.1767, 0.0215]])\n",
            "\n",
            "Tensor B:\n",
            "tensor([[0.0522, 0.9167, 0.3835, 0.7838],\n",
            "        [0.5523, 0.5452, 0.0732, 0.1931],\n",
            "        [0.9717, 0.7818, 0.6802, 0.0374]])\n",
            "\n",
            "Does Tensor A equal Tensor B? (anywhere)\n"
          ]
        },
        {
          "output_type": "execute_result",
          "data": {
            "text/plain": [
              "tensor([[False, False, False, False],\n",
              "        [False, False, False, False],\n",
              "        [False, False, False, False]])"
            ]
          },
          "metadata": {},
          "execution_count": 1
        }
      ]
    },
    {
      "cell_type": "markdown",
      "source": [
        "# **tensor with same random numbers**\n",
        "if you wanted to created two random tensors with the same values.\n",
        "As in, the tensors would still contain random values but they would be of the same flavour.\n",
        "\n",
        "That's where torch.manual_seed(seed) comes in, where seed is an integer (like 42 but it could be anything) that flavours the randomness.\n",
        "\n",
        "Let's try it out by creating some more flavoured random tensors.\n",
        "\n",
        "# **RANDOM_SEED**\n",
        "The seed is used to initialize the pseudorandom number generator in Python. The random module uses the seed value as a base to generate a random number. if seed value is not present it takes system current time. if you provide same seed value before generating random data it will produce the same data."
      ],
      "metadata": {
        "id": "osm8rLztbncu"
      }
    },
    {
      "cell_type": "code",
      "source": [
        "import torch\n",
        "import random\n",
        "\n",
        "# Set the random seed\n",
        "RANDOM_SEED=44                    # try changing the value \"43\" to different values and see what happens to the numbers below\n",
        "torch.manual_seed(seed=RANDOM_SEED)\n",
        "random_tensor_C = torch.rand(3, 4)\n",
        "\n",
        "# Have to reset the seed every time a new rand() is called\n",
        "# Without this, tensor_D would be different to tensor_C\n",
        "torch.random.manual_seed(seed=RANDOM_SEED) # try commenting this line out and seeing what happens\n",
        "random_tensor_D = torch.rand(3, 4)\n",
        "\n",
        "# look for the output:\n",
        "print(f\"Tensor C:\\n{random_tensor_C}\\n\")\n",
        "print(f\"Tensor D:\\n{random_tensor_D}\\n\")\n",
        "print(f\"Does Tensor C equal Tensor D? (anywhere)\")\n",
        "random_tensor_C == random_tensor_D\n",
        "# this wil output true for each element of both the tensors:"
      ],
      "metadata": {
        "colab": {
          "base_uri": "https://localhost:8080/"
        },
        "id": "CpdvQ8eFbWj_",
        "outputId": "021e38d8-03f5-43ad-8ad4-4eb752f7e2f8"
      },
      "execution_count": null,
      "outputs": [
        {
          "output_type": "stream",
          "name": "stdout",
          "text": [
            "Tensor C:\n",
            "tensor([[0.7196, 0.7307, 0.8278, 0.1343],\n",
            "        [0.6280, 0.7297, 0.2882, 0.2112],\n",
            "        [0.9836, 0.8722, 0.9650, 0.7837]])\n",
            "\n",
            "Tensor D:\n",
            "tensor([[0.7196, 0.7307, 0.8278, 0.1343],\n",
            "        [0.6280, 0.7297, 0.2882, 0.2112],\n",
            "        [0.9836, 0.8722, 0.9650, 0.7837]])\n",
            "\n",
            "Does Tensor C equal Tensor D? (anywhere)\n"
          ]
        },
        {
          "output_type": "execute_result",
          "data": {
            "text/plain": [
              "tensor([[True, True, True, True],\n",
              "        [True, True, True, True],\n",
              "        [True, True, True, True]])"
            ]
          },
          "metadata": {},
          "execution_count": 6
        }
      ]
    },
    {
      "cell_type": "code",
      "source": [],
      "metadata": {
        "id": "TEFNAAZgdPi1"
      },
      "execution_count": null,
      "outputs": []
    }
  ]
}